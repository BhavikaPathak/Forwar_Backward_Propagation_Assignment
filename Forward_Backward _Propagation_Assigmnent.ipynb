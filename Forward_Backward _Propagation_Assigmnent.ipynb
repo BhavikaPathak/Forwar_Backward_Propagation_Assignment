{
 "cells": [
  {
   "cell_type": "markdown",
   "id": "d7a4ff12-5779-45f3-8bc5-6c598f04101c",
   "metadata": {},
   "source": [
    "# ANSWER 1\n",
    "Forward propagation is the process through which input data is passed through a neural network to generate an output. It involves computing the weighted sum of inputs, applying activation functions to these sums, and passing the results to the next layer. The purpose of forward propagation is to produce predictions or activations that the network outputs based on the given input data and the learned parameters (weights and biases)."
   ]
  },
  {
   "cell_type": "markdown",
   "id": "e785d25d-bf7b-402a-ac10-d6f9edb6f19c",
   "metadata": {},
   "source": [
    "# ANSWER 2\n",
    "In a single-layer feedforward neural network, the forward propagation process involves the following steps:\n",
    "\n",
    "Compute the weighted sum of inputs: Multiply each input by its corresponding weight and sum up the results.\n",
    "\n",
    "Mathematically:\n",
    "Weighted Sum = Σ(input_i * weight_i) for all i in the input layer.\n",
    "\n",
    "Apply the activation function: Pass the computed weighted sum through an activation function (e.g., sigmoid, ReLU) to introduce non-linearity.\n",
    "\n",
    "Mathematically:\n",
    "Output = Activation_Function(weighted_sum)."
   ]
  },
  {
   "cell_type": "markdown",
   "id": "4a3ae79d-d7e7-404d-a60e-2910c62684f3",
   "metadata": {},
   "source": [
    "# ANSWER 3\n",
    "Activation functions introduce non-linearity to the neural network, allowing it to model complex relationships in the data. They determine whether a neuron should be activated (fire) or not based on the weighted sum of inputs. Common activation functions include sigmoid, tanh, ReLU, and softmax. They transform the output of each neuron to a certain range or value, which forms the activations of that layer and becomes the input for the next layer during forward propagation."
   ]
  },
  {
   "cell_type": "markdown",
   "id": "866bad26-3544-44a2-9ddf-467133bcc8d6",
   "metadata": {},
   "source": [
    "# ANSWER 4\n",
    "Weights and biases are the learnable parameters of a neural network. During forward propagation, the weighted sum of inputs (including biases) is computed and passed through an activation function. The weights determine the strength of connections between neurons, while biases allow the activation function to be shifted up or down. Adjusting these parameters through training enables the network to learn and make accurate predictions."
   ]
  },
  {
   "cell_type": "markdown",
   "id": "ed001325-9912-419d-b67a-df57d6902a82",
   "metadata": {},
   "source": [
    "# ANSWER 5\n",
    "The softmax function is used in the output layer of a neural network when dealing with multi-class classification problems. It converts the raw scores (logits) produced by the network into probabilities. These probabilities represent the likelihood of the input belonging to each class. Softmax ensures that the predicted class probabilities sum up to 1, making it easier to interpret the network's output as class probabilities."
   ]
  },
  {
   "cell_type": "markdown",
   "id": "b3fd3459-e7a7-48b5-85de-8d50f3f3cd00",
   "metadata": {},
   "source": [
    "# ANSWER 6\n",
    "Backward propagation is the process of updating the network's parameters (weights and biases) based on the computed gradients of the loss function with respect to those parameters. It is essential for training the neural network, as it guides the optimization algorithm to adjust the parameters in a way that reduces the prediction error."
   ]
  },
  {
   "cell_type": "markdown",
   "id": "d579703e-51be-48a2-95f1-d78750a343f2",
   "metadata": {},
   "source": [
    "# ANSWER 7\n",
    "In a single-layer feedforward neural network, backward propagation involves the following steps:\n",
    "1. Compute the gradient of the loss with respect to the output activations.\n",
    "2. Compute the gradient of the output activations with respect to the weighted sum (using the derivative of the activation function).\n",
    "3. Compute the gradient of the weighted sum with respect to the weights and biases.\n",
    "4. Use these gradients to update the weights and biases using an optimization algorithm (e.g., gradient descent)."
   ]
  },
  {
   "cell_type": "markdown",
   "id": "8d627ed6-f6c2-4e9d-b19a-00b12b4d8e27",
   "metadata": {},
   "source": [
    "# ANSWER 8 \n",
    "The chain rule is a fundamental rule in calculus that states how to calculate the derivative of a composite function. In the context of neural networks, the chain rule is used to calculate gradients in multi-layer networks during backpropagation. It breaks down the gradient of the final output with respect to the initial input into a series of gradients in each layer. This allows us to compute the impact of changes in parameters on the overall loss."
   ]
  },
  {
   "cell_type": "markdown",
   "id": "16762b49-e58f-4ff3-a13a-f38fa145f42d",
   "metadata": {},
   "source": [
    "# ANSWER 9\n",
    "Vanishing Gradient: This occurs when gradients become extremely small, hindering the learning process in deep networks. Using non-saturating activation functions like ReLU and its variants can mitigate this issue.\n",
    "\n",
    "Exploding Gradient: Gradients become too large, leading to unstable training. Gradient clipping or normalization techniques can help control this problem.\n",
    "\n",
    "Numerical Stability: Involves issues with very small or very large numbers during calculations. Using appropriate data preprocessing and stable activation functions can help.\n",
    "\n",
    "Overfitting: The model learns to fit the training data too closely, leading to poor generalization. Regularization techniques like L2 regularization and dropout can prevent overfitting.\n",
    "\n",
    "Incorrect Hyperparameters: Poor choice of learning rate, batch size, or network architecture can affect convergence. Hyperparameter tuning through cross-validation is crucial.\n",
    "\n",
    "Convergence Issues: Network may not converge due to incorrect learning rates or other hyperparameters. Experimenting with different optimization algorithms and learning rates can help.\n",
    "\n",
    "Data Mismatch: If the training and validation data are significantly different, the network might not generalize well. Using representative and diverse training data can help improve generalization.\n",
    "\n",
    "### Addressing these challenges often involves a combination of proper architecture design, appropriate activation functions, data preprocessing, regularization techniques, and careful hyperparameter tuning."
   ]
  },
  {
   "cell_type": "code",
   "execution_count": null,
   "id": "594b902a-72b8-408c-a67f-d15ac542b1f7",
   "metadata": {},
   "outputs": [],
   "source": []
  }
 ],
 "metadata": {
  "kernelspec": {
   "display_name": "Python 3 (ipykernel)",
   "language": "python",
   "name": "python3"
  },
  "language_info": {
   "codemirror_mode": {
    "name": "ipython",
    "version": 3
   },
   "file_extension": ".py",
   "mimetype": "text/x-python",
   "name": "python",
   "nbconvert_exporter": "python",
   "pygments_lexer": "ipython3",
   "version": "3.10.8"
  }
 },
 "nbformat": 4,
 "nbformat_minor": 5
}
